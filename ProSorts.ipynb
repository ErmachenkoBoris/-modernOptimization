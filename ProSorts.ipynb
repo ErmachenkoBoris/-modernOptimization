{
  "nbformat": 4,
  "nbformat_minor": 0,
  "metadata": {
    "colab": {
      "name": "ProSorts.ipynb",
      "provenance": [],
      "collapsed_sections": [],
      "authorship_tag": "ABX9TyPr4KYoAWKk/bWJPJK/jaON",
      "include_colab_link": true
    },
    "kernelspec": {
      "name": "python3",
      "display_name": "Python 3"
    },
    "language_info": {
      "name": "python"
    }
  },
  "cells": [
    {
      "cell_type": "markdown",
      "metadata": {
        "id": "view-in-github",
        "colab_type": "text"
      },
      "source": [
        "<a href=\"https://colab.research.google.com/github/ErmachenkoBoris/-modernOptimization/blob/master/ProSorts.ipynb\" target=\"_parent\"><img src=\"https://colab.research.google.com/assets/colab-badge.svg\" alt=\"Open In Colab\"/></a>"
      ]
    },
    {
      "cell_type": "code",
      "metadata": {
        "id": "qmLOMuLT_cg_"
      },
      "source": [
        ""
      ],
      "execution_count": null,
      "outputs": []
    },
    {
      "cell_type": "markdown",
      "metadata": {
        "id": "IS3NjwzHEK1-"
      },
      "source": [
        "Qick Sort"
      ]
    },
    {
      "cell_type": "code",
      "metadata": {
        "id": "vlykbJ7SES5a"
      },
      "source": [
        "def partition(arr)"
      ],
      "execution_count": null,
      "outputs": []
    },
    {
      "cell_type": "code",
      "metadata": {
        "id": "G2_9H7S5EM5G"
      },
      "source": [
        "def quickSort(arr, first, last)"
      ],
      "execution_count": null,
      "outputs": []
    }
  ]
}