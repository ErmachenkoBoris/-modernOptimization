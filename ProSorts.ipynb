{
  "nbformat": 4,
  "nbformat_minor": 0,
  "metadata": {
    "colab": {
      "name": "ProSorts.ipynb",
      "provenance": [],
      "collapsed_sections": [],
      "authorship_tag": "ABX9TyNx2ihXLVlcBobt1yG84p6P",
      "include_colab_link": true
    },
    "kernelspec": {
      "name": "python3",
      "display_name": "Python 3"
    },
    "language_info": {
      "name": "python"
    }
  },
  "cells": [
    {
      "cell_type": "markdown",
      "metadata": {
        "id": "view-in-github",
        "colab_type": "text"
      },
      "source": [
        "<a href=\"https://colab.research.google.com/github/ErmachenkoBoris/-modernOptimization/blob/master/ProSorts.ipynb\" target=\"_parent\"><img src=\"https://colab.research.google.com/assets/colab-badge.svg\" alt=\"Open In Colab\"/></a>"
      ]
    },
    {
      "cell_type": "code",
      "metadata": {
        "id": "qmLOMuLT_cg_"
      },
      "source": [
        ""
      ],
      "execution_count": null,
      "outputs": []
    },
    {
      "cell_type": "markdown",
      "metadata": {
        "id": "IS3NjwzHEK1-"
      },
      "source": [
        "# Qick Sort"
      ]
    },
    {
      "cell_type": "code",
      "metadata": {
        "id": "Zn4bvO4yGiXO"
      },
      "source": [
        "import random"
      ],
      "execution_count": 129,
      "outputs": []
    },
    {
      "cell_type": "code",
      "metadata": {
        "id": "lsVqhHQiCrUW"
      },
      "source": [
        "testArr = [1,3,4,567,8,5,7,8,9,0,2,3,45,6,7,8987,1, 0,0,0,0, 10000, 100000, 99999, 99, 28, 23, 6, 898, 66, 11,2, 9, 100]\n",
        "testArr2 = [3, 2, 5, 0, 10, 7, 0, 2, 12]"
      ],
      "execution_count": 22,
      "outputs": []
    },
    {
      "cell_type": "code",
      "metadata": {
        "id": "vlykbJ7SES5a"
      },
      "source": [
        "def lomutoPartition(arr, pivotIndex, first, last):\n",
        "  lessIndex = first\n",
        "  biggerIndex = first\n",
        "\n",
        "  pivot = arr[pivotIndex]\n",
        "\n",
        "  #1\n",
        "  arr[pivotIndex], arr[last] = arr[last], arr[pivotIndex]\n",
        "\n",
        "  #2\n",
        "  for i in range(first, last):\n",
        "    if arr[i]<pivot:\n",
        "      arr[lessIndex], arr[biggerIndex] = arr[biggerIndex], arr[lessIndex]\n",
        "      biggerIndex = biggerIndex + 1\n",
        "      lessIndex = lessIndex + 1\n",
        "    elif arr[i]>pivot:\n",
        "      biggerIndex = biggerIndex + 1\n",
        "    elif arr[i] == pivot:\n",
        "      if biggerIndex >= 2 * lessIndex:\n",
        "        arr[lessIndex], arr[biggerIndex] = arr[biggerIndex], arr[lessIndex]\n",
        "        biggerIndex = biggerIndex + 1\n",
        "        lessIndex = lessIndex + 1\n",
        "      else:\n",
        "        biggerIndex = biggerIndex + 1\n",
        "  return lessIndex - 1\n",
        "\n"
      ],
      "execution_count": 136,
      "outputs": []
    },
    {
      "cell_type": "code",
      "metadata": {
        "id": "PzenNKc1HN-o"
      },
      "source": [
        "def insertionSort(arr, first, last):\n",
        "  for i in range(first, last+1):\n",
        "    localMin = arr[i]\n",
        "    localMinIndex = i\n",
        "    for j in range(i, last+1):\n",
        "      if arr[j] < localMin:\n",
        "        localMin = arr[j]\n",
        "        localMinIndex = j\n",
        "    arr[i], arr[localMinIndex] = arr[localMinIndex], arr[i]"
      ],
      "execution_count": 3,
      "outputs": []
    },
    {
      "cell_type": "code",
      "metadata": {
        "colab": {
          "base_uri": "https://localhost:8080/"
        },
        "id": "G2_9H7S5EM5G",
        "outputId": "0c272499-ffb5-4762-f8cc-c490fcc5b08f"
      },
      "source": [
        "LIMIT = 5\n",
        "\n",
        "def quickSort(arr, first, last):\n",
        "\n",
        "  while last-first > LIMIT and first < last:\n",
        "\n",
        "    pivot = random.randint(first, last)\n",
        "    pivot = lomutoPartition(arr, pivot, first, last)\n",
        "    \n",
        "    if pivot - first<= last - pivot - 1:\n",
        "      quickSort(arr, first, pivot)\n",
        "      first = pivot+1\n",
        "    else:\n",
        "      quickSort(arr, pivot+1, last)\n",
        "      last = pivot\n",
        "    \n",
        "  if last-first <= LIMIT and first < last:\n",
        "    insertionSort(arr, first, last)\n",
        "\n",
        "  return arr\n",
        "\n",
        "print(quickSort(testArr, 0, len(testArr)-1))"
      ],
      "execution_count": 139,
      "outputs": [
        {
          "output_type": "stream",
          "name": "stdout",
          "text": [
            "[0, 0, 0, 0, 0, 1, 1, 2, 2, 3, 3, 4, 5, 6, 6, 7, 7, 8, 8, 9, 9, 11, 23, 28, 45, 66, 99, 100, 567, 898, 8987, 10000, 99999, 100000]\n"
          ]
        }
      ]
    },
    {
      "cell_type": "code",
      "metadata": {
        "id": "_T5Lh6IdupTb"
      },
      "source": [
        ""
      ],
      "execution_count": null,
      "outputs": []
    },
    {
      "cell_type": "markdown",
      "metadata": {
        "id": "PRNbmZs-upn0"
      },
      "source": [
        "# Counting Sort"
      ]
    },
    {
      "cell_type": "code",
      "metadata": {
        "id": "9X6C_tVZuw4X"
      },
      "source": [
        "def countingSortForRadix(arr, maxValue, index):\n",
        "  cArr = [0 for i in range(maxValue)]\n",
        "  rArr = [[] for i in range(len(arr))]\n",
        "  for i in range(len(arr)):\n",
        "    cArr[arr[i][index]] = cArr[arr[i][index]] + 1\n",
        "  for i in range(1, maxValue):\n",
        "    cArr[i] = cArr[i] + cArr[i-1]\n",
        "  \n",
        "  for i in range(len(arr)):\n",
        "    tmpPosition = cArr[arr[i][index]] - 1\n",
        "    rArr[tmpPosition] = arr[i]\n",
        "    cArr[arr[i][index]] = cArr[arr[i][index]] - 1\n",
        "  \n",
        "  arr = rArr\n",
        "  return arr"
      ],
      "execution_count": 1,
      "outputs": []
    },
    {
      "cell_type": "code",
      "metadata": {
        "colab": {
          "base_uri": "https://localhost:8080/"
        },
        "id": "6D_2WoatSqFc",
        "outputId": "af38476c-0e93-4407-dc0b-238ad382c61f"
      },
      "source": [
        "BASE = 2**16\n",
        "def radixSort(arr):\n",
        "\n",
        "  helpArr = [[] for i in range(len(arr))]\n",
        "\n",
        "  for i in range(len(arr)):\n",
        "    firstPart = arr[i] % BASE\n",
        "    secondPart = arr[i] >> 16\n",
        "    helpArr[i] = [arr[i], firstPart, secondPart]\n",
        "\n",
        "  helpArr = countingSortForRadix(helpArr, BASE, 1)\n",
        "  \n",
        "  helpArr = countingSortForRadix(helpArr, BASE, 2)\n",
        "\n",
        "  for i in range(len(arr)):\n",
        "    arr[i] = helpArr[i][0]\n",
        "  return arr\n",
        "\n",
        "radixSort([30000001,20000002,10000003])"
      ],
      "execution_count": 2,
      "outputs": [
        {
          "output_type": "execute_result",
          "data": {
            "text/plain": [
              "[10000003, 20000002, 30000001]"
            ]
          },
          "metadata": {},
          "execution_count": 2
        }
      ]
    },
    {
      "cell_type": "code",
      "metadata": {
        "colab": {
          "base_uri": "https://localhost:8080/"
        },
        "id": "XgFERW4xAlgm",
        "outputId": "28e1e23c-1d3b-4775-ce8d-3a55c7b87daa"
      },
      "source": [
        "# print(countingSort(testArr, 100009))"
      ],
      "execution_count": 146,
      "outputs": [
        {
          "output_type": "stream",
          "name": "stdout",
          "text": [
            "[0, 0, 0, 0, 0, 1, 1, 2, 2, 3, 3, 4, 5, 6, 6, 7, 7, 8, 8, 9, 9, 11, 23, 28, 45, 66, 99, 100, 567, 898, 8987, 10000, 99999, 100000]\n"
          ]
        }
      ]
    },
    {
      "cell_type": "markdown",
      "metadata": {
        "id": "B8tpEwTsTMrN"
      },
      "source": [
        "# Backet Sort"
      ]
    },
    {
      "cell_type": "code",
      "metadata": {
        "colab": {
          "base_uri": "https://localhost:8080/"
        },
        "id": "h9XER2jATP2J",
        "outputId": "7bc3b269-9cea-4f25-945c-a23e6bdf60a9"
      },
      "source": [
        "from math import *\n",
        "\n",
        "def backetSort(arr):\n",
        "  N = len(arr)\n",
        "  maxValue = arr[0]\n",
        "  backetArr = [[] for i in range(N+1)]\n",
        "  for i in range(N):\n",
        "    if arr[i] > maxValue:\n",
        "      maxValue =arr[i]\n",
        "  for i in range(N):\n",
        "    position = floor(arr[i] / maxValue * N)\n",
        "    backetArr[position].append(arr[i])\n",
        "  for i in range(N):\n",
        "    if(len(backetArr[i]) > 0):\n",
        "      insertionSort(backetArr[i], 0, len(backetArr[i])-1)\n",
        "  t = 0\n",
        "  j = 0\n",
        "  n = N\n",
        "  while N != t:\n",
        "    for arrValue in backetArr[j]:\n",
        "      arr[t] = arrValue\n",
        "      t = t + 1\n",
        "    j = j + 1\n",
        "  return arr\n",
        "\n",
        "print(backetSort(testArr))\n",
        "    \n",
        "  \n"
      ],
      "execution_count": 24,
      "outputs": [
        {
          "output_type": "stream",
          "name": "stdout",
          "text": [
            "[0, 0, 0, 0, 0, 1, 1, 2, 2, 3, 3, 4, 5, 6, 6, 7, 7, 8, 8, 9, 9, 11, 23, 28, 45, 66, 99, 100, 567, 898, 8987, 10000, 99999, 100000]\n"
          ]
        }
      ]
    }
  ]
}