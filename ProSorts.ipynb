{
  "nbformat": 4,
  "nbformat_minor": 0,
  "metadata": {
    "colab": {
      "name": "ProSorts.ipynb",
      "provenance": [],
      "collapsed_sections": [],
      "authorship_tag": "ABX9TyMNmzfGP72y8/0FPQ1Faxha",
      "include_colab_link": true
    },
    "kernelspec": {
      "name": "python3",
      "display_name": "Python 3"
    },
    "language_info": {
      "name": "python"
    }
  },
  "cells": [
    {
      "cell_type": "markdown",
      "metadata": {
        "id": "view-in-github",
        "colab_type": "text"
      },
      "source": [
        "<a href=\"https://colab.research.google.com/github/ErmachenkoBoris/-modernOptimization/blob/master/ProSorts.ipynb\" target=\"_parent\"><img src=\"https://colab.research.google.com/assets/colab-badge.svg\" alt=\"Open In Colab\"/></a>"
      ]
    },
    {
      "cell_type": "code",
      "metadata": {
        "id": "qmLOMuLT_cg_"
      },
      "source": [
        ""
      ],
      "execution_count": null,
      "outputs": []
    },
    {
      "cell_type": "markdown",
      "metadata": {
        "id": "IS3NjwzHEK1-"
      },
      "source": [
        "# Qick Sort"
      ]
    },
    {
      "cell_type": "code",
      "metadata": {
        "id": "Zn4bvO4yGiXO"
      },
      "source": [
        "import random"
      ],
      "execution_count": 129,
      "outputs": []
    },
    {
      "cell_type": "code",
      "metadata": {
        "id": "lsVqhHQiCrUW"
      },
      "source": [
        "testArr = [1,3,4,567,8,5,7,8,9,0,2,3,45,6,7,8987,1, 0,0,0,0, 10000, 100000, 99999, 99, 28, 23, 6, 898, 66, 11,2, 9, 100]\n",
        "testArr2 = [3, 2, 5, 0, 10, 7, 0, 2, 12]"
      ],
      "execution_count": 140,
      "outputs": []
    },
    {
      "cell_type": "code",
      "metadata": {
        "id": "vlykbJ7SES5a"
      },
      "source": [
        "def lomutoPartition(arr, pivotIndex, first, last):\n",
        "  lessIndex = first\n",
        "  biggerIndex = first\n",
        "\n",
        "  pivot = arr[pivotIndex]\n",
        "\n",
        "  #1\n",
        "  arr[pivotIndex], arr[last] = arr[last], arr[pivotIndex]\n",
        "\n",
        "  #2\n",
        "  for i in range(first, last):\n",
        "    if arr[i]<pivot:\n",
        "      arr[lessIndex], arr[biggerIndex] = arr[biggerIndex], arr[lessIndex]\n",
        "      biggerIndex = biggerIndex + 1\n",
        "      lessIndex = lessIndex + 1\n",
        "    elif arr[i]>pivot:\n",
        "      biggerIndex = biggerIndex + 1\n",
        "    elif arr[i] == pivot:\n",
        "      if biggerIndex >= 2 * lessIndex:\n",
        "        arr[lessIndex], arr[biggerIndex] = arr[biggerIndex], arr[lessIndex]\n",
        "        biggerIndex = biggerIndex + 1\n",
        "        lessIndex = lessIndex + 1\n",
        "      else:\n",
        "        biggerIndex = biggerIndex + 1\n",
        "  return lessIndex - 1\n",
        "\n"
      ],
      "execution_count": 136,
      "outputs": []
    },
    {
      "cell_type": "code",
      "metadata": {
        "id": "PzenNKc1HN-o"
      },
      "source": [
        "def insertionSort(arr, first, last):\n",
        "  for i in range(first, last+1):\n",
        "    localMin = arr[i]\n",
        "    localMinIndex = i\n",
        "    for j in range(i, last+1):\n",
        "      if arr[j] < localMin:\n",
        "        localMin = arr[j]\n",
        "        localMinIndex = j\n",
        "    arr[i], arr[localMinIndex] = arr[localMinIndex], arr[i]"
      ],
      "execution_count": 135,
      "outputs": []
    },
    {
      "cell_type": "code",
      "metadata": {
        "colab": {
          "base_uri": "https://localhost:8080/"
        },
        "id": "G2_9H7S5EM5G",
        "outputId": "0c272499-ffb5-4762-f8cc-c490fcc5b08f"
      },
      "source": [
        "LIMIT = 5\n",
        "\n",
        "def quickSort(arr, first, last):\n",
        "\n",
        "  while last-first > LIMIT and first < last:\n",
        "\n",
        "    pivot = random.randint(first, last)\n",
        "    pivot = lomutoPartition(arr, pivot, first, last)\n",
        "    \n",
        "    if pivot - first<= last - pivot - 1:\n",
        "      quickSort(arr, first, pivot)\n",
        "      first = pivot+1\n",
        "    else:\n",
        "      quickSort(arr, pivot+1, last)\n",
        "      last = pivot\n",
        "    \n",
        "  if last-first <= LIMIT and first < last:\n",
        "    insertionSort(arr, first, last)\n",
        "\n",
        "  return arr\n",
        "\n",
        "print(quickSort(testArr, 0, len(testArr)-1))"
      ],
      "execution_count": 139,
      "outputs": [
        {
          "output_type": "stream",
          "name": "stdout",
          "text": [
            "[0, 0, 0, 0, 0, 1, 1, 2, 2, 3, 3, 4, 5, 6, 6, 7, 7, 8, 8, 9, 9, 11, 23, 28, 45, 66, 99, 100, 567, 898, 8987, 10000, 99999, 100000]\n"
          ]
        }
      ]
    },
    {
      "cell_type": "code",
      "metadata": {
        "id": "_T5Lh6IdupTb"
      },
      "source": [
        ""
      ],
      "execution_count": null,
      "outputs": []
    },
    {
      "cell_type": "markdown",
      "metadata": {
        "id": "PRNbmZs-upn0"
      },
      "source": [
        "# Counting Sort"
      ]
    },
    {
      "cell_type": "code",
      "metadata": {
        "id": "9X6C_tVZuw4X"
      },
      "source": [
        "def countingSortForRadix(arr, maxValue, index):\n",
        "  cArr = [0 for i in range(maxValue)]\n",
        "  rArr = [[] for i in range(len(arr))]\n",
        "  for i in range(len(arr)):\n",
        "    cArr[arr[i][index]] = cArr[arr[i][index]] + 1\n",
        "  for i in range(1, maxValue):\n",
        "    cArr[i] = cArr[i] + cArr[i-1]\n",
        "  \n",
        "  print('--', arr)\n",
        "  for i in range(len(arr)):\n",
        "    tmpPosition = cArr[arr[i][index]] - 1\n",
        "    print(') ', tmpPosition)\n",
        "    rArr[tmpPosition] = arr[i]\n",
        "    cArr[arr[i][index]] = cArr[arr[i][index]] - 1\n",
        "  \n",
        "  print(index, rArr)\n",
        "  arr = rArr\n",
        "  print(-index, arr)\n",
        "  return arr"
      ],
      "execution_count": 51,
      "outputs": []
    },
    {
      "cell_type": "code",
      "metadata": {
        "colab": {
          "base_uri": "https://localhost:8080/"
        },
        "id": "6D_2WoatSqFc",
        "outputId": "d5e0f4b9-7ff1-4639-884d-c0cd13adbe7a"
      },
      "source": [
        "BASE = 2**16\n",
        "def radixSort(arr):\n",
        "\n",
        "  helpArr = [[] for i in range(len(arr))]\n",
        "\n",
        "  for i in range(len(arr)):\n",
        "    firstPart = arr[i] % BASE\n",
        "    secondPart = arr[i] >> 16\n",
        "    helpArr[i] = [arr[i], firstPart, secondPart]\n",
        "\n",
        "  helpArr = countingSortForRadix(helpArr, BASE, 1)\n",
        "  \n",
        "  helpArr = countingSortForRadix(helpArr, BASE, 2)\n",
        "\n",
        "  # print(helpArr)\n",
        "\n",
        "  for i in range(len(arr)):\n",
        "    arr[i] = helpArr[i][0]\n",
        "  print(helpArr)\n",
        "  return arr\n",
        "\n",
        "radixSort([30000001,20000002,10000003])"
      ],
      "execution_count": 55,
      "outputs": [
        {
          "output_type": "stream",
          "name": "stdout",
          "text": [
            "-- [[30000001, 50049, 457], [20000002, 11522, 305], [10000003, 38531, 152]]\n",
            ")  2\n",
            ")  0\n",
            ")  1\n",
            "1 [[20000002, 11522, 305], [10000003, 38531, 152], [30000001, 50049, 457]]\n",
            "-1 [[20000002, 11522, 305], [10000003, 38531, 152], [30000001, 50049, 457]]\n",
            "-- [[20000002, 11522, 305], [10000003, 38531, 152], [30000001, 50049, 457]]\n",
            ")  1\n",
            ")  0\n",
            ")  2\n",
            "2 [[10000003, 38531, 152], [20000002, 11522, 305], [30000001, 50049, 457]]\n",
            "-2 [[10000003, 38531, 152], [20000002, 11522, 305], [30000001, 50049, 457]]\n",
            "[[10000003, 38531, 152], [20000002, 11522, 305], [30000001, 50049, 457]]\n"
          ]
        },
        {
          "output_type": "execute_result",
          "data": {
            "text/plain": [
              "[10000003, 20000002, 30000001]"
            ]
          },
          "metadata": {},
          "execution_count": 55
        }
      ]
    },
    {
      "cell_type": "code",
      "metadata": {
        "colab": {
          "base_uri": "https://localhost:8080/"
        },
        "id": "XgFERW4xAlgm",
        "outputId": "28e1e23c-1d3b-4775-ce8d-3a55c7b87daa"
      },
      "source": [
        "print(countingSort(testArr, 100009))"
      ],
      "execution_count": 146,
      "outputs": [
        {
          "output_type": "stream",
          "name": "stdout",
          "text": [
            "[0, 0, 0, 0, 0, 1, 1, 2, 2, 3, 3, 4, 5, 6, 6, 7, 7, 8, 8, 9, 9, 11, 23, 28, 45, 66, 99, 100, 567, 898, 8987, 10000, 99999, 100000]\n"
          ]
        }
      ]
    }
  ]
}